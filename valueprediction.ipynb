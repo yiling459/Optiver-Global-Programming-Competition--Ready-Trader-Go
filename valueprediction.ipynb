{
 "cells": [
  {
   "cell_type": "code",
   "execution_count": 1,
   "metadata": {},
   "outputs": [
    {
     "name": "stderr",
     "output_type": "stream",
     "text": [
      "/opt/anaconda3/lib/python3.9/site-packages/scipy/__init__.py:146: UserWarning: A NumPy version >=1.16.5 and <1.23.0 is required for this version of SciPy (detected version 1.23.5\n",
      "  warnings.warn(f\"A NumPy version >={np_minversion} and <{np_maxversion}\"\n"
     ]
    }
   ],
   "source": [
    "import sklearn as skl\n",
    "import pandas as pd\n",
    "import numpy as np\n"
   ]
  },
  {
   "cell_type": "code",
   "execution_count": 10,
   "metadata": {},
   "outputs": [],
   "source": [
    "#load data\n",
    "df_all=pd.read_csv('output.csv')\n",
    "df_ETF=pd.read_csv('outputETF.csv')\n",
    "df_Future=pd.read_csv('outputFuture.csv')"
   ]
  },
  {
   "cell_type": "code",
   "execution_count": 11,
   "metadata": {},
   "outputs": [
    {
     "name": "stdout",
     "output_type": "stream",
     "text": [
      "   0  1  (147100, 147200, 147400, 148000, 152000)  \\\n",
      "0  1  1                           (0, 0, 0, 0, 0)   \n",
      "1  0  2  (147100, 147200, 147400, 148000, 152200)   \n",
      "2  1  2                 (147100, 147600, 0, 0, 0)   \n",
      "3  0  3  (147100, 147200, 147300, 147400, 148000)   \n",
      "4  1  3                 (147100, 147600, 0, 0, 0)   \n",
      "\n",
      "     (1000, 3400, 1000, 2000, 1000)       (146900, 146600, 146300, 113000, 0)  \\\n",
      "0                   (0, 0, 0, 0, 0)                           (0, 0, 0, 0, 0)   \n",
      "1   (9400, 12740, 4000, 2000, 1000)  (146900, 146600, 146300, 146000, 145400)   \n",
      "2              (10, 10000, 0, 0, 0)                 (146900, 146400, 0, 0, 0)   \n",
      "3  (10400, 12740, 2000, 4000, 2000)  (146300, 146000, 145400, 117200, 112900)   \n",
      "4              (10, 10000, 0, 0, 0)                 (146900, 146400, 0, 0, 0)   \n",
      "\n",
      "      (13000, 1000, 1000, 2000, 0)  0.1  0.2  0.3  0.4  -8600  \n",
      "0                  (0, 0, 0, 0, 0)    0    0    0    0      0  \n",
      "1  (13000, 1000, 1000, 2000, 1000)    0    0    0    0  11140  \n",
      "2             (10, 10000, 0, 0, 0)    0    0    1    1      0  \n",
      "3   (1000, 2000, 1000, 1000, 2000)    0    0    1    1  24140  \n",
      "4             (10, 10000, 0, 0, 0)    0    0    1    1      0  \n"
     ]
    }
   ],
   "source": [
    "#show the first five rows of the data\n",
    "print(df_all.head())"
   ]
  },
  {
   "cell_type": "code",
   "execution_count": 65,
   "metadata": {},
   "outputs": [],
   "source": [
    "# add the new row of title to the data frame\n",
    "#new_row={'instrument':1,'sequence_number':2,'ask_prices':3,'ask_volumes':4,'bid_prices':5,'bid_volumes':6,'bbbf':7,'bbaf':8,'bbbe':9,'bbae':10,'difference':11}\n",
    "#1st order change:12,2nd order change: 13,3rd order change:14\n",
    "#new_row=pd.Series([1,2,3,4,5,6,7,8,9,10,11],index=[\n",
    "    #'instrument','sequence number','ask prices','ask volumes','bid prices','bid volumes','bbbf','bbaf','bbbe','bbae','difference'\n",
    "    #])\n",
    "#df_all=pd.concat([new_row,df_all],axis=0).reset_index(drop=True)\n",
    "#print(df_all.head())\n",
    "\n",
    "#how to add  a row on the head of a dataframe?\n",
    "\n",
    "#get functions for standarlize the data\n",
    "def get_mean(x):\n",
    "    return sum(x)/len(x)\n",
    "def get_std(x, mean):\n",
    "    lst_sub_mean=[]\n",
    "    for i in x:\n",
    "        lst_sub_mean.append(i-mean)\n",
    "    sum=0\n",
    "    for i in lst_sub_mean:\n",
    "        sum+=i**2\n",
    "    result=(sum/len(x))**0.5\n",
    "    return result\n",
    "def normalization(x, mean, std):\n",
    "    lst_sub_mean=[]\n",
    "    for i in x:\n",
    "        lst_sub_mean.append(i-mean)\n",
    "    lst_result=[]\n",
    "    for i in lst_sub_mean:\n",
    "        lst_result.append(i/std)\n",
    "    return lst_result"
   ]
  },
  {
   "cell_type": "code",
   "execution_count": 80,
   "metadata": {},
   "outputs": [],
   "source": [
    "#add the output features and the market price\n",
    "num_rows=df_all.shape[0]\n",
    "lst_ask_prices=df_all.iloc[:,2]\n",
    "#print(lst_ask_prices[1])\n",
    "#print(type(lst_ask_prices[1]))\n",
    "lst_lowest_ask_price=[]\n",
    "for i in range(num_rows):\n",
    "    tuple_row=eval(lst_ask_prices[i])\n",
    "    none_zero_row=[]\n",
    "    for i in tuple_row:\n",
    "        if i>0:\n",
    "            none_zero_row.append(i)\n",
    "    if none_zero_row!=[]:\n",
    "        lst_lowest_ask_price.append(min(none_zero_row))\n",
    "    else:lst_lowest_ask_price.append(0)\n",
    "#print(lst_lowest_ask_price)\n",
    "\n",
    "lst_bid_prices=df_all.iloc[:,4]\n",
    "lst_highest_bid_price=[]\n",
    "for i in range(num_rows):\n",
    "    tuple_row=eval(lst_bid_prices[i])\n",
    "    lst_highest_bid_price.append(max(tuple_row))\n",
    "#print(lst_highest_bid_price)\n",
    "lst_market_price=[]\n",
    "for i in range(num_rows):\n",
    "    market_price=(lst_lowest_ask_price[i]+lst_highest_bid_price[i])/2\n",
    "    lst_market_price.append(market_price)\n",
    "#print(lst_market_price)\n",
    "df_all['market price']=lst_market_price\n"
   ]
  },
  {
   "cell_type": "code",
   "execution_count": 82,
   "metadata": {},
   "outputs": [
    {
     "name": "stdout",
     "output_type": "stream",
     "text": [
      "   0  1  (147100, 147200, 147400, 148000, 152000)  \\\n",
      "0  1  1                           (0, 0, 0, 0, 0)   \n",
      "1  0  2  (147100, 147200, 147400, 148000, 152200)   \n",
      "2  1  2                 (147100, 147600, 0, 0, 0)   \n",
      "3  0  3  (147100, 147200, 147300, 147400, 148000)   \n",
      "4  1  3                 (147100, 147600, 0, 0, 0)   \n",
      "\n",
      "     (1000, 3400, 1000, 2000, 1000)       (146900, 146600, 146300, 113000, 0)  \\\n",
      "0                   (0, 0, 0, 0, 0)                           (0, 0, 0, 0, 0)   \n",
      "1   (9400, 12740, 4000, 2000, 1000)  (146900, 146600, 146300, 146000, 145400)   \n",
      "2              (10, 10000, 0, 0, 0)                 (146900, 146400, 0, 0, 0)   \n",
      "3  (10400, 12740, 2000, 4000, 2000)  (146300, 146000, 145400, 117200, 112900)   \n",
      "4              (10, 10000, 0, 0, 0)                 (146900, 146400, 0, 0, 0)   \n",
      "\n",
      "      (13000, 1000, 1000, 2000, 0)  0.1  0.2  0.3  0.4  -8600  market price  \\\n",
      "0                  (0, 0, 0, 0, 0)    0    0    0    0      0           0.0   \n",
      "1  (13000, 1000, 1000, 2000, 1000)    0    0    0    0  11140      147000.0   \n",
      "2             (10, 10000, 0, 0, 0)    0    0    1    1      0      147000.0   \n",
      "3   (1000, 2000, 1000, 1000, 2000)    0    0    1    1  24140      146700.0   \n",
      "4             (10, 10000, 0, 0, 0)    0    0    1    1      0      147000.0   \n",
      "\n",
      "   1 order market change  2 order market change  3 order market change  \n",
      "0               147000.0               147000.0               146700.0  \n",
      "1                    0.0                 -300.0                    0.0  \n",
      "2                 -300.0                    0.0                   50.0  \n",
      "3                  300.0                  350.0                   50.0  \n",
      "4                   50.0                 -250.0                   50.0  \n"
     ]
    }
   ],
   "source": [
    "print(df_all.head())"
   ]
  },
  {
   "cell_type": "code",
   "execution_count": 81,
   "metadata": {},
   "outputs": [],
   "source": [
    "lst_1order_market_change=[]\n",
    "for i in range(num_rows-1):\n",
    "    lst_1order_market_change.append(lst_market_price[i+1]-lst_market_price[i])\n",
    "lst_1order_market_change.append(0)\n",
    "df_all['1 order market change']=lst_1order_market_change\n",
    "\n",
    "lst_2order_market_change=[]\n",
    "for i in range(num_rows-2):\n",
    "    lst_2order_market_change.append(lst_market_price[i+2]-lst_market_price[i])\n",
    "lst_2order_market_change.extend([0,0])\n",
    "df_all['2 order market change']=lst_2order_market_change\n",
    "\n",
    "lst_3order_market_change=[]\n",
    "for i in range(num_rows-3):\n",
    "    lst_3order_market_change.append(lst_market_price[i+3]-lst_market_price[i])\n",
    "lst_3order_market_change.extend([0,0,0])\n",
    "df_all['3 order market change']=lst_3order_market_change\n"
   ]
  },
  {
   "cell_type": "code",
   "execution_count": 83,
   "metadata": {},
   "outputs": [
    {
     "name": "stdout",
     "output_type": "stream",
     "text": [
      "   sequence number      a1      a2  a3  a4  a5     b1     b2  b3  b4  b5  \\\n",
      "0                1       0       0   0   0   0      0      0   0   0   0   \n",
      "1                2  147100  147600   0   0   0     10  10000   0   0   0   \n",
      "2                3  147100  147600   0   0   0     10  10000   0   0   0   \n",
      "3                4  147100  147600   0   0   0     10  10000   0   0   0   \n",
      "4                5  147600       0   0   0   0  10000      0   0   0   0   \n",
      "\n",
      "   difference  market price  1st change  2nd change  3rd change  \n",
      "0           0           0.0    147000.0    147000.0    146700.0  \n",
      "1           0      147000.0      -300.0         0.0        50.0  \n",
      "2           0      147000.0        50.0      -250.0        50.0  \n",
      "3           0      146750.0       300.0       550.0       400.0  \n",
      "4         -10      147300.0      -150.0       150.0      -250.0  \n"
     ]
    }
   ],
   "source": [
    "#standarlize the data and put the standalized data to a new dataframe\n",
    "#print(df_all.iloc[1,0])\n",
    "standarlized_ETF=pd.DataFrame()\n",
    "lst_seq_n=[]\n",
    "for i in range(num_rows):\n",
    "    if df_all.iloc[i,0]==1:\n",
    "        lst_seq_n.append(df_all.iloc[i,1])\n",
    "standarlized_ETF['sequence number']=lst_seq_n\n",
    "\n",
    "lst_a1=[]\n",
    "for i in range(num_rows):\n",
    "    if df_all.iloc[i,0]==1:\n",
    "        tuple_row=eval(df_all.iloc[i,2])\n",
    "        lst_a1.append(tuple_row[0])\n",
    "# mean_a1=get_mean(lst_a1)\n",
    "# std_a1=get_std(lst_a1,mean_a1)\n",
    "# nor_a1=normalization(lst_a1,mean_a1,std_a1)\n",
    "standarlized_ETF['a1']=lst_a1\n",
    "\n",
    "lst_a2=[]\n",
    "for i in range(num_rows):\n",
    "    if df_all.iloc[i,0]==1:\n",
    "        tuple_row=eval(df_all.iloc[i,2])\n",
    "        lst_a2.append(tuple_row[1])\n",
    "# mean_a2=get_mean(lst_a2)\n",
    "# std_a2=get_std(lst_a2,mean_a2)\n",
    "# nor_a2=normalization(lst_a2,mean_a2,std_a2)\n",
    "standarlized_ETF['a2']=lst_a2\n",
    "\n",
    "lst_a3=[]\n",
    "for i in range(num_rows):\n",
    "    if df_all.iloc[i,0]==1:\n",
    "        tuple_row=eval(df_all.iloc[i,2])\n",
    "        lst_a3.append(tuple_row[2])\n",
    "# mean_a3=get_mean(lst_a3)\n",
    "# std_a3=get_std(lst_a3,mean_a3)\n",
    "# nor_a3=normalization(lst_a3,mean_a3,std_a3)\n",
    "standarlized_ETF['a3']=lst_a3\n",
    "\n",
    "lst_a4=[]\n",
    "for i in range(num_rows):\n",
    "    if df_all.iloc[i,0]==1:\n",
    "        tuple_row=eval(df_all.iloc[i,2])\n",
    "        lst_a4.append(tuple_row[3])\n",
    "# mean_a4=get_mean(lst_a4)\n",
    "# std_a4=get_std(lst_a4,mean_a4)\n",
    "# nor_a4=normalization(lst_a4,mean_a4,std_a4)\n",
    "standarlized_ETF['a4']=lst_a4\n",
    "\n",
    "lst_a5=[]\n",
    "for i in range(num_rows):\n",
    "    if df_all.iloc[i,0]==1:\n",
    "        tuple_row=eval(df_all.iloc[i,2])\n",
    "        lst_a5.append(tuple_row[4])\n",
    "# mean_a5=get_mean(lst_a5)\n",
    "# std_a5=get_std(lst_a5,mean_a5)\n",
    "# nor_a5=normalization(lst_a5,mean_a5,std_a5)\n",
    "standarlized_ETF['a5']=lst_a5\n",
    "\n",
    "lst_b1=[]\n",
    "for i in range(num_rows):\n",
    "    if df_all.iloc[i,0]==1:\n",
    "        tuple_row=eval(df_all.iloc[i,3])\n",
    "        lst_b1.append(tuple_row[0])\n",
    "# mean_b1=get_mean(lst_b1)\n",
    "# std_b1=get_std(lst_b1,mean_b1)\n",
    "# nor_b1=normalization(lst_b1,mean_b1,std_b1)\n",
    "standarlized_ETF['b1']=lst_b1\n",
    "\n",
    "lst_b2=[]\n",
    "for i in range(num_rows):\n",
    "    if df_all.iloc[i,0]==1:\n",
    "        tuple_row=eval(df_all.iloc[i,3])\n",
    "        lst_b2.append(tuple_row[1])\n",
    "'''mean_b2=get_mean(lst_b2)\n",
    "std_b2=get_std(lst_b2,mean_b2)\n",
    "nor_b2=normalization(lst_b2,mean_b2,std_b2)'''\n",
    "standarlized_ETF['b2']=lst_b2\n",
    "\n",
    "lst_b3=[]\n",
    "for i in range(num_rows):\n",
    "    if df_all.iloc[i,0]==1:\n",
    "        tuple_row=eval(df_all.iloc[i,3])\n",
    "        lst_b3.append(tuple_row[2])\n",
    "'''mean_b3=get_mean(lst_b3)\n",
    "std_b3=get_std(lst_b3,mean_b3)\n",
    "nor_b3=normalization(lst_b3,mean_b3,std_b3)'''\n",
    "standarlized_ETF['b3']=lst_b3\n",
    "\n",
    "lst_b4=[]\n",
    "for i in range(num_rows):\n",
    "    if df_all.iloc[i,0]==1:\n",
    "        tuple_row=eval(df_all.iloc[i,3])\n",
    "        lst_b4.append(tuple_row[3])\n",
    "'''mean_b4=get_mean(lst_b4)\n",
    "std_b4=get_std(lst_b4,mean_b4)\n",
    "nor_b4=normalization(lst_b4,mean_b4,std_b4)'''\n",
    "standarlized_ETF['b4']=lst_b4\n",
    "\n",
    "lst_b5=[]\n",
    "for i in range(num_rows):\n",
    "    if df_all.iloc[i,0]==1:\n",
    "        tuple_row=eval(df_all.iloc[i,3])\n",
    "        lst_b5.append(tuple_row[4])\n",
    "'''mean_b5=get_mean(lst_b5)\n",
    "std_b5=get_std(lst_b5,mean_b5)\n",
    "nor_b5=normalization(lst_b5,mean_b5,std_b5)'''\n",
    "standarlized_ETF['b5']=lst_b5\n",
    "\n",
    "lst_difference=[]\n",
    "for i in range(num_rows):\n",
    "    if df_all.iloc[i,0]==1:\n",
    "        lst_difference.append(df_all.iloc[i,10])\n",
    "standarlized_ETF['difference']=lst_difference\n",
    "\n",
    "lst_market_price=[]\n",
    "for i in range(num_rows):\n",
    "    if df_all.iloc[i,0]==1:\n",
    "        #print(df_all.iloc[i,11])\n",
    "        lst_market_price.append(df_all.iloc[i,11])\n",
    "standarlized_ETF['market price']=lst_market_price\n",
    "\n",
    "lst_1st_change=[]\n",
    "for i in range(num_rows):\n",
    "    if df_all.iloc[i,0]==1:\n",
    "        lst_1st_change.append(df_all.iloc[i,12])\n",
    "standarlized_ETF['1st change']=lst_1st_change\n",
    "\n",
    "lst_2nd_change=[]\n",
    "for i in range(num_rows):\n",
    "    if df_all.iloc[i,0]==1:\n",
    "        lst_2nd_change.append(df_all.iloc[i,13])\n",
    "standarlized_ETF['2nd change']=lst_2nd_change\n",
    "\n",
    "lst_3rd_change=[]\n",
    "for i in range(num_rows):\n",
    "    if df_all.iloc[i,0]==1:\n",
    "        lst_3rd_change.append(df_all.iloc[i,14])\n",
    "standarlized_ETF['3rd change']=lst_3rd_change\n",
    "\n",
    "print(standarlized_ETF.head())\n"
   ]
  },
  {
   "cell_type": "code",
   "execution_count": 98,
   "metadata": {},
   "outputs": [],
   "source": [
    "#establish the feature matrix and output matrix\n",
    "array_a1=np.array(lst_a1)\n",
    "array_input=np.array(lst_a1)\n",
    "array_a2=np.array(lst_a2)\n",
    "array_a3=np.array(lst_a3)\n",
    "array_a4=np.array(lst_a4)\n",
    "array_a5=np.array(lst_a5)\n",
    "array_b1=np.array(lst_b1)\n",
    "array_b2=np.array(lst_b2)\n",
    "array_b3=np.array(lst_b3)\n",
    "array_b4=np.array(lst_b4)\n",
    "array_b5=np.array(lst_b5)\n",
    "array_difference=np.array(lst_difference)\n",
    "\n",
    "#print(np.reshape(array_a1,(-1,1)).shape)\n",
    "array_input=np.reshape(array_input,(-1,1))\n",
    "#print(array_input.shape)\n",
    "array_input=np.append(array_input,np.reshape(array_a1,(-1,1)),axis=1)\n",
    "array_input=np.append(array_input,np.reshape(array_a2,(-1,1)),axis=1)\n",
    "array_input=np.append(array_input,np.reshape(array_a3,(-1,1)),axis=1)\n",
    "array_input=np.append(array_input,np.reshape(array_a4,(-1,1)),axis=1)\n",
    "array_input=np.append(array_input,np.reshape(array_a5,(-1,1)),axis=1)\n",
    "array_input=np.append(array_input,np.reshape(array_b1,(-1,1)),axis=1)\n",
    "array_input=np.append(array_input,np.reshape(array_b2,(-1,1)),axis=1)\n",
    "array_input=np.append(array_input,np.reshape(array_b3,(-1,1)),axis=1)\n",
    "array_input=np.append(array_input,np.reshape(array_b4,(-1,1)),axis=1)\n",
    "array_input=np.append(array_input,np.reshape(array_b5,(-1,1)),axis=1)\n",
    "array_input=np.append(array_input,np.reshape(array_difference,(-1,1)),axis=1)\n",
    "#print(array_input)\n",
    "\n",
    "#get the output array\n",
    "array_output=np.array(lst_market_price)\n",
    "array_output=np.reshape(array_output,(-1,1))\n",
    "array_1st_change=np.array(lst_1st_change)\n",
    "array_2nd_change=np.array(lst_2nd_change)\n",
    "array_3rd_change=np.array(lst_3rd_change)\n",
    "array_output=np.append(array_output,np.reshape(array_1st_change,(-1,1)),axis=1)\n",
    "array_output=np.append(array_output,np.reshape(array_2nd_change,(-1,1)),axis=1)\n",
    "array_output=np.append(array_output,np.reshape(array_3rd_change,(-1,1)),axis=1)\n",
    "\n",
    "#get the output array for market price\n",
    "array_output_market=np.array(lst_market_price)"
   ]
  },
  {
   "cell_type": "code",
   "execution_count": 84,
   "metadata": {},
   "outputs": [
    {
     "name": "stdout",
     "output_type": "stream",
     "text": [
      "                 sequence number        a1        a2        a3        a4  \\\n",
      "sequence number         1.000000  0.443608  0.264545  0.253883  0.253500   \n",
      "a1                      0.443608  1.000000  0.472232  0.411093  0.380318   \n",
      "a2                      0.264545  0.472232  1.000000  0.814862  0.711021   \n",
      "a3                      0.253883  0.411093  0.814862  1.000000  0.865063   \n",
      "a4                      0.253500  0.380318  0.711021  0.865063  1.000000   \n",
      "a5                      0.264370  0.343933  0.572255  0.687423  0.786508   \n",
      "b1                      0.076159  0.062478 -0.034897 -0.016351 -0.004035   \n",
      "b2                     -0.005483 -0.010740  0.021472 -0.022805 -0.054981   \n",
      "b3                     -0.107620 -0.022313  0.010250  0.019657  0.025491   \n",
      "b4                     -0.132518 -0.007876  0.011769  0.017063  0.022101   \n",
      "b5                     -0.089632 -0.025475 -0.000751  0.004821  0.009710   \n",
      "difference             -0.015895  0.002028  0.003263  0.006543  0.008304   \n",
      "market price            0.445726  0.999075  0.472848  0.411802  0.380380   \n",
      "1st change             -0.035476 -0.723658 -0.296667 -0.238663 -0.203484   \n",
      "2nd change             -0.030383 -0.722883 -0.301039 -0.242560 -0.208267   \n",
      "3rd change             -0.036242 -0.724001 -0.296283 -0.239056 -0.204171   \n",
      "\n",
      "                       a5        b1        b2        b3        b4        b5  \\\n",
      "sequence number  0.264370  0.076159 -0.005483 -0.107620 -0.132518 -0.089632   \n",
      "a1               0.343933  0.062478 -0.010740 -0.022313 -0.007876 -0.025475   \n",
      "a2               0.572255 -0.034897  0.021472  0.010250  0.011769 -0.000751   \n",
      "a3               0.687423 -0.016351 -0.022805  0.019657  0.017063  0.004821   \n",
      "a4               0.786508 -0.004035 -0.054981  0.025491  0.022101  0.009710   \n",
      "a5               1.000000  0.015970 -0.057585 -0.026711  0.029999  0.017538   \n",
      "b1               0.015970  1.000000 -0.356452 -0.295917 -0.231689 -0.156491   \n",
      "b2              -0.057585 -0.356452  1.000000 -0.191795 -0.153104 -0.104883   \n",
      "b3              -0.026711 -0.295917 -0.191795  1.000000 -0.126988 -0.086846   \n",
      "b4               0.029999 -0.231689 -0.153104 -0.126988  1.000000 -0.069399   \n",
      "b5               0.017538 -0.156491 -0.104883 -0.086846 -0.069399  1.000000   \n",
      "difference       0.006724  0.449425  0.173810  0.058085  0.004940  0.003367   \n",
      "market price     0.343632  0.050489 -0.011594 -0.019873 -0.008688 -0.023250   \n",
      "1st change      -0.155742 -0.102395 -0.022117  0.002297  0.021188  0.017673   \n",
      "2nd change      -0.161731 -0.018193 -0.008073 -0.005625 -0.004388 -0.003394   \n",
      "3rd change      -0.155764 -0.102967 -0.021935  0.001661  0.021020  0.016777   \n",
      "\n",
      "                 difference  market price  1st change  2nd change  3rd change  \n",
      "sequence number   -0.015895      0.445726   -0.035476   -0.030383   -0.036242  \n",
      "a1                 0.002028      0.999075   -0.723658   -0.722883   -0.724001  \n",
      "a2                 0.003263      0.472848   -0.296667   -0.301039   -0.296283  \n",
      "a3                 0.006543      0.411802   -0.238663   -0.242560   -0.239056  \n",
      "a4                 0.008304      0.380380   -0.203484   -0.208267   -0.204171  \n",
      "a5                 0.006724      0.343632   -0.155742   -0.161731   -0.155764  \n",
      "b1                 0.449425      0.050489   -0.102395   -0.018193   -0.102967  \n",
      "b2                 0.173810     -0.011594   -0.022117   -0.008073   -0.021935  \n",
      "b3                 0.058085     -0.019873    0.002297   -0.005625    0.001661  \n",
      "b4                 0.004940     -0.008688    0.021188   -0.004388    0.021020  \n",
      "b5                 0.003367     -0.023250    0.017673   -0.003394    0.016777  \n",
      "difference         1.000000      0.000550   -0.099241   -0.003453   -0.100838  \n",
      "market price       0.000550      1.000000   -0.723570   -0.722935   -0.723918  \n",
      "1st change        -0.099241     -0.723570    1.000000    0.990766    0.998978  \n",
      "2nd change        -0.003453     -0.722935    0.990766    1.000000    0.989701  \n",
      "3rd change        -0.100838     -0.723918    0.998978    0.989701    1.000000  \n"
     ]
    }
   ],
   "source": [
    "#the correlation matrix of the variables in the dataframe\n",
    "corr_matrix=standarlized_ETF.corr()\n",
    "print(corr_matrix)"
   ]
  },
  {
   "cell_type": "code",
   "execution_count": 86,
   "metadata": {},
   "outputs": [
    {
     "data": {
      "text/plain": [
       "[<matplotlib.lines.Line2D at 0x7fdb31f9d940>]"
      ]
     },
     "execution_count": 86,
     "metadata": {},
     "output_type": "execute_result"
    },
    {
     "data": {
      "image/png": "[encoded data removed]",
      "text/plain": [
       "<Figure size 640x480 with 1 Axes>"
      ]
     },
     "metadata": {},
     "output_type": "display_data"
    }
   ],
   "source": [
    "#visualize the market price\n",
    "import matplotlib.pyplot as plt\n",
    "lst=[i for i in range(len(lst_market_price))]\n",
    "plt.plot(lst,lst_market_price)"
   ]
  },
  {
   "cell_type": "code",
   "execution_count": 102,
   "metadata": {},
   "outputs": [
    {
     "data": {
      "image/png": "[encoded data removed]",
      "text/plain": [
       "<Figure size 640x480 with 1 Axes>"
      ]
     },
     "metadata": {},
     "output_type": "display_data"
    }
   ],
   "source": [
    "#train the gradient boosting regresor model\n",
    "from sklearn.model_selection import train_test_split\n",
    "from sklearn.metrics import mean_squared_error\n",
    "from sklearn.ensemble import GradientBoostingRegressor\n",
    "X_train,X_test,y_train,y_test=train_test_split(array_input,array_output_market)\n",
    "\n",
    "gbrt=GradientBoostingRegressor(max_depth=2,n_estimators=120)\n",
    "gbrt.fit(X_train,y_train)\n",
    "\n",
    "errors=[mean_squared_error(y_test,y_pred) for y_pred in gbrt.staged_predict(X_test)]\n",
    "best_n_estimator=np.argmin(errors)+1\n",
    "\n",
    "gbrt_best=GradientBoostingRegressor(max_depth=2,n_estimators=best_n_estimator)\n",
    "gbrt_best.fit(X_train,y_train)\n",
    "\n",
    "plt.plot(lst,lst_market_price,linewidth=4)\n",
    "plt.plot(lst,gbrt.predict(array_input))\n",
    "plt.show()\n"
   ]
  },
  {
   "cell_type": "code",
   "execution_count": 121,
   "metadata": {},
   "outputs": [
    {
     "data": {
      "image/png": "[encoded data removed]",
      "text/plain": [
       "<Figure size 640x480 with 1 Axes>"
      ]
     },
     "metadata": {},
     "output_type": "display_data"
    }
   ],
   "source": [
    "#reduce the number of estimators and get a more practical solution\n",
    "gbrt_practical=GradientBoostingRegressor(max_depth=2,n_estimators=25)\n",
    "gbrt_practical.fit(X_train,y_train)\n",
    "\n",
    "plt.plot(lst,lst_market_price,linewidth=4)\n",
    "plt.plot(lst,gbrt_practical.predict(array_input))\n",
    "plt.show()\n"
   ]
  },
  {
   "cell_type": "code",
   "execution_count": 117,
   "metadata": {},
   "outputs": [
    {
     "name": "stdout",
     "output_type": "stream",
     "text": [
      "<class 'sklearn.tree._classes.DecisionTreeRegressor'>\n",
      "|--- feature_1 <= 152150.00\n",
      "|   |--- feature_4 <= 149600.00\n",
      "|   |   |--- value: [-4340.02]\n",
      "|   |--- feature_4 >  149600.00\n",
      "|   |   |--- value: [-1186.40]\n",
      "|--- feature_1 >  152150.00\n",
      "|   |--- feature_1 <= 154350.00\n",
      "|   |   |--- value: [1246.43]\n",
      "|   |--- feature_1 >  154350.00\n",
      "|   |   |--- value: [3839.93]\n",
      "\n"
     ]
    }
   ],
   "source": [
    "from sklearn.tree import DecisionTreeRegressor, export_text\n",
    "#get the parameters of the model\n",
    "#print(gbrt_best.estimators_)\n",
    "print(type(gbrt_best.estimators_[0][0]))\n",
    "print(export_text(gbrt_best.estimators_[0][0]))"
   ]
  }
 ],
 "metadata": {
  "kernelspec": {
   "display_name": "base",
   "language": "python",
   "name": "python3"
  },
  "language_info": {
   "codemirror_mode": {
    "name": "ipython",
    "version": 3
   },
   "file_extension": ".py",
   "mimetype": "text/x-python",
   "name": "python",
   "nbconvert_exporter": "python",
   "pygments_lexer": "ipython3",
   "version": "3.9.7"
  },
  "orig_nbformat": 4,
  "vscode": {
   "interpreter": {
    "hash": "40d3a090f54c6569ab1632332b64b2c03c39dcf918b08424e98f38b5ae0af88f"
   }
  }
 },
 "nbformat": 4,
 "nbformat_minor": 2
}
